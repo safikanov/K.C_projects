{
 "cells": [
  {
   "cell_type": "code",
   "execution_count": 1,
   "id": "14dcfa8c-385a-4a1c-ad25-d243d553ad32",
   "metadata": {},
   "outputs": [],
   "source": [
    "import pandas as pd\n",
    "import pandahouse as ph\n",
    "import seaborn as sns\n",
    "import matplotlib.pyplot as plt\n",
    "import numpy as np\n",
    "from scipy import stats\n",
    "from tqdm import tqdm\n",
    "import warnings\n",
    "warnings.filterwarnings('ignore')\n",
    "\n",
    "connection = {'host': 'hidden_host',\n",
    "                      'database':'hidden_database',\n",
    "                      'user':'hidden_user', \n",
    "                      'password':'hidden_password'\n",
    "                     }\n"
   ]
  },
  {
   "cell_type": "markdown",
   "id": "b1f3a509-2aa9-47ff-a576-2e208126588b",
   "metadata": {},
   "source": [
    "Проанализируем тест между группами 0 и 3 по обычному `CTR` и метрике `линеаризованных лайков`."
   ]
  },
  {
   "cell_type": "code",
   "execution_count": 2,
   "id": "3a498071-96c2-4d74-86cb-d2c02825dca8",
   "metadata": {},
   "outputs": [
    {
     "data": {
      "text/html": [
       "<div>\n",
       "<style scoped>\n",
       "    .dataframe tbody tr th:only-of-type {\n",
       "        vertical-align: middle;\n",
       "    }\n",
       "\n",
       "    .dataframe tbody tr th {\n",
       "        vertical-align: top;\n",
       "    }\n",
       "\n",
       "    .dataframe thead th {\n",
       "        text-align: right;\n",
       "    }\n",
       "</style>\n",
       "<table border=\"1\" class=\"dataframe\">\n",
       "  <thead>\n",
       "    <tr style=\"text-align: right;\">\n",
       "      <th></th>\n",
       "      <th>exp_group</th>\n",
       "      <th>user_id</th>\n",
       "      <th>likes</th>\n",
       "      <th>views</th>\n",
       "      <th>ctr</th>\n",
       "    </tr>\n",
       "  </thead>\n",
       "  <tbody>\n",
       "    <tr>\n",
       "      <th>0</th>\n",
       "      <td>3</td>\n",
       "      <td>115383</td>\n",
       "      <td>24</td>\n",
       "      <td>71</td>\n",
       "      <td>0.338028</td>\n",
       "    </tr>\n",
       "    <tr>\n",
       "      <th>1</th>\n",
       "      <td>3</td>\n",
       "      <td>10326</td>\n",
       "      <td>19</td>\n",
       "      <td>65</td>\n",
       "      <td>0.292308</td>\n",
       "    </tr>\n",
       "    <tr>\n",
       "      <th>2</th>\n",
       "      <td>0</td>\n",
       "      <td>38076</td>\n",
       "      <td>16</td>\n",
       "      <td>103</td>\n",
       "      <td>0.155340</td>\n",
       "    </tr>\n",
       "    <tr>\n",
       "      <th>3</th>\n",
       "      <td>3</td>\n",
       "      <td>36785</td>\n",
       "      <td>10</td>\n",
       "      <td>50</td>\n",
       "      <td>0.200000</td>\n",
       "    </tr>\n",
       "    <tr>\n",
       "      <th>4</th>\n",
       "      <td>0</td>\n",
       "      <td>151490</td>\n",
       "      <td>18</td>\n",
       "      <td>96</td>\n",
       "      <td>0.187500</td>\n",
       "    </tr>\n",
       "    <tr>\n",
       "      <th>...</th>\n",
       "      <td>...</td>\n",
       "      <td>...</td>\n",
       "      <td>...</td>\n",
       "      <td>...</td>\n",
       "      <td>...</td>\n",
       "    </tr>\n",
       "    <tr>\n",
       "      <th>27391</th>\n",
       "      <td>3</td>\n",
       "      <td>158023</td>\n",
       "      <td>10</td>\n",
       "      <td>30</td>\n",
       "      <td>0.333333</td>\n",
       "    </tr>\n",
       "    <tr>\n",
       "      <th>27392</th>\n",
       "      <td>3</td>\n",
       "      <td>13781</td>\n",
       "      <td>7</td>\n",
       "      <td>16</td>\n",
       "      <td>0.437500</td>\n",
       "    </tr>\n",
       "    <tr>\n",
       "      <th>27393</th>\n",
       "      <td>0</td>\n",
       "      <td>3681</td>\n",
       "      <td>9</td>\n",
       "      <td>35</td>\n",
       "      <td>0.257143</td>\n",
       "    </tr>\n",
       "    <tr>\n",
       "      <th>27394</th>\n",
       "      <td>3</td>\n",
       "      <td>122008</td>\n",
       "      <td>7</td>\n",
       "      <td>45</td>\n",
       "      <td>0.155556</td>\n",
       "    </tr>\n",
       "    <tr>\n",
       "      <th>27395</th>\n",
       "      <td>0</td>\n",
       "      <td>11718</td>\n",
       "      <td>9</td>\n",
       "      <td>30</td>\n",
       "      <td>0.300000</td>\n",
       "    </tr>\n",
       "  </tbody>\n",
       "</table>\n",
       "<p>27396 rows × 5 columns</p>\n",
       "</div>"
      ],
      "text/plain": [
       "       exp_group  user_id  likes  views       ctr\n",
       "0              3   115383     24     71  0.338028\n",
       "1              3    10326     19     65  0.292308\n",
       "2              0    38076     16    103  0.155340\n",
       "3              3    36785     10     50  0.200000\n",
       "4              0   151490     18     96  0.187500\n",
       "...          ...      ...    ...    ...       ...\n",
       "27391          3   158023     10     30  0.333333\n",
       "27392          3    13781      7     16  0.437500\n",
       "27393          0     3681      9     35  0.257143\n",
       "27394          3   122008      7     45  0.155556\n",
       "27395          0    11718      9     30  0.300000\n",
       "\n",
       "[27396 rows x 5 columns]"
      ]
     },
     "execution_count": 2,
     "metadata": {},
     "output_type": "execute_result"
    }
   ],
   "source": [
    "q = '''\n",
    "SELECT exp_group, \n",
    "    user_id,\n",
    "    sum(action = 'like') as likes,\n",
    "    sum(action = 'view') as views,\n",
    "    likes/views as ctr\n",
    "FROM {db}.feed_actions \n",
    "WHERE toDate(time) between '2022-09-21' and '2022-09-27'\n",
    "    and exp_group in (0,3)\n",
    "GROUP BY exp_group, user_id\n",
    "'''\n",
    "\n",
    "df = ph.read_clickhouse(q, connection=connection)\n",
    "df"
   ]
  },
  {
   "cell_type": "markdown",
   "id": "c00a7b4d-6fc3-4680-b7b4-53ad2a8b58ba",
   "metadata": {},
   "source": [
    "Посчитаем общий `CTR` в контрольной группе. А также  поюзерную метрику `linearized_likes` в обеих группах."
   ]
  },
  {
   "cell_type": "code",
   "execution_count": 3,
   "id": "ac484524-3e64-4b90-bef7-8f4eddea2675",
   "metadata": {},
   "outputs": [
    {
     "data": {
      "text/plain": [
       "0.21035423136999318"
      ]
     },
     "execution_count": 3,
     "metadata": {},
     "output_type": "execute_result"
    }
   ],
   "source": [
    "control_ctr = df.query('exp_group == 0').likes.sum()/df.query('exp_group == 0').views.sum()\n",
    "control_ctr"
   ]
  },
  {
   "cell_type": "code",
   "execution_count": 4,
   "id": "35cc57d5-8c63-4fc6-ae6f-148ce22438c0",
   "metadata": {},
   "outputs": [],
   "source": [
    "df['linearized_likes'] = df.likes - control_ctr * df.views"
   ]
  },
  {
   "cell_type": "markdown",
   "id": "1d51ae6c-fbf7-4420-bd93-c23d8452752a",
   "metadata": {},
   "source": [
    "T-test по `CTR`:"
   ]
  },
  {
   "cell_type": "code",
   "execution_count": 5,
   "id": "6e9043fe-5963-4664-ba89-51dc490f36c5",
   "metadata": {},
   "outputs": [
    {
     "data": {
      "image/png": "[encoded data removed]",
      "text/plain": [
       "<Figure size 842.4x595.44 with 1 Axes>"
      ]
     },
     "metadata": {},
     "output_type": "display_data"
    }
   ],
   "source": [
    "sns.set(rc={'figure.figsize':(11.7,8.27)})\n",
    "\n",
    "sns.histplot(data = df, \n",
    "              x='ctr', \n",
    "              hue='exp_group', \n",
    "              palette = ['r', 'b'],\n",
    "              alpha=0.5,\n",
    "              kde=False)\n",
    "plt.show()"
   ]
  },
  {
   "cell_type": "code",
   "execution_count": 6,
   "id": "ef996531-85ff-449c-938e-f4ab4dac7791",
   "metadata": {},
   "outputs": [
    {
     "data": {
      "text/plain": [
       "Ttest_indResult(statistic=-0.3440264120165721, pvalue=0.7308290637050674)"
      ]
     },
     "execution_count": 6,
     "metadata": {},
     "output_type": "execute_result"
    }
   ],
   "source": [
    "stats.ttest_ind(df.query('exp_group == 0').ctr,\n",
    "                df.query('exp_group == 3').ctr,\n",
    "                equal_var=False)"
   ]
  },
  {
   "cell_type": "markdown",
   "id": "ea5294cd-2e4d-4449-8b57-2daaa77e8d36",
   "metadata": {},
   "source": [
    "---\n",
    "\n",
    "T-test по `linearized_likes`:\n"
   ]
  },
  {
   "cell_type": "code",
   "execution_count": 7,
   "id": "35c5e23e-bfd9-4acc-a607-bd1c986fbc9b",
   "metadata": {},
   "outputs": [
    {
     "data": {
      "image/png": "[encoded data removed]",
      "text/plain": [
       "<Figure size 842.4x595.44 with 1 Axes>"
      ]
     },
     "metadata": {},
     "output_type": "display_data"
    }
   ],
   "source": [
    "sns.set(rc={'figure.figsize':(11.7,8.27)})\n",
    "\n",
    "sns.histplot(data = df, \n",
    "              x='linearized_likes', \n",
    "              hue='exp_group', \n",
    "              palette = ['r', 'b'],\n",
    "              alpha=0.5,\n",
    "              kde=False)\n",
    "plt.show()"
   ]
  },
  {
   "cell_type": "code",
   "execution_count": 8,
   "id": "82a1c908-cde5-4a23-9719-d5e6592938a6",
   "metadata": {},
   "outputs": [
    {
     "data": {
      "text/plain": [
       "Ttest_indResult(statistic=-0.7198987765574395, pvalue=0.47159346397101576)"
      ]
     },
     "execution_count": 8,
     "metadata": {},
     "output_type": "execute_result"
    }
   ],
   "source": [
    "stats.ttest_ind(df.query('exp_group == 0').linearized_likes,\n",
    "                df.query('exp_group == 3').linearized_likes,\n",
    "                equal_var=False)"
   ]
  },
  {
   "cell_type": "markdown",
   "id": "1f8f1e26-182c-4bd7-9ac4-c10a232fb7e3",
   "metadata": {},
   "source": [
    "На обычном `CTR` T-test прокрасился и заметил разницу, а на линеаризованных лайках p-value стал еще меньше. Используя линеаризованную метрику, мы смогли заметить меньшие изменения. Метрика стала более чувствительной.\n",
    " \n",
    "---\n",
    "\n",
    "Проанализируем тест между группами 1 и 2 по обычному `CTR` и метрике `линеаризованных лайков`."
   ]
  },
  {
   "cell_type": "code",
   "execution_count": 9,
   "id": "e772bcdf-f59b-4ed6-95ad-8eccb66612a0",
   "metadata": {},
   "outputs": [
    {
     "data": {
      "text/html": [
       "<div>\n",
       "<style scoped>\n",
       "    .dataframe tbody tr th:only-of-type {\n",
       "        vertical-align: middle;\n",
       "    }\n",
       "\n",
       "    .dataframe tbody tr th {\n",
       "        vertical-align: top;\n",
       "    }\n",
       "\n",
       "    .dataframe thead th {\n",
       "        text-align: right;\n",
       "    }\n",
       "</style>\n",
       "<table border=\"1\" class=\"dataframe\">\n",
       "  <thead>\n",
       "    <tr style=\"text-align: right;\">\n",
       "      <th></th>\n",
       "      <th>exp_group</th>\n",
       "      <th>user_id</th>\n",
       "      <th>likes</th>\n",
       "      <th>views</th>\n",
       "      <th>ctr</th>\n",
       "    </tr>\n",
       "  </thead>\n",
       "  <tbody>\n",
       "    <tr>\n",
       "      <th>0</th>\n",
       "      <td>1</td>\n",
       "      <td>109963</td>\n",
       "      <td>2</td>\n",
       "      <td>20</td>\n",
       "      <td>0.100000</td>\n",
       "    </tr>\n",
       "    <tr>\n",
       "      <th>1</th>\n",
       "      <td>1</td>\n",
       "      <td>138232</td>\n",
       "      <td>21</td>\n",
       "      <td>109</td>\n",
       "      <td>0.192661</td>\n",
       "    </tr>\n",
       "    <tr>\n",
       "      <th>2</th>\n",
       "      <td>1</td>\n",
       "      <td>49286</td>\n",
       "      <td>10</td>\n",
       "      <td>64</td>\n",
       "      <td>0.156250</td>\n",
       "    </tr>\n",
       "    <tr>\n",
       "      <th>3</th>\n",
       "      <td>1</td>\n",
       "      <td>145957</td>\n",
       "      <td>24</td>\n",
       "      <td>62</td>\n",
       "      <td>0.387097</td>\n",
       "    </tr>\n",
       "    <tr>\n",
       "      <th>4</th>\n",
       "      <td>2</td>\n",
       "      <td>131473</td>\n",
       "      <td>22</td>\n",
       "      <td>80</td>\n",
       "      <td>0.275000</td>\n",
       "    </tr>\n",
       "    <tr>\n",
       "      <th>...</th>\n",
       "      <td>...</td>\n",
       "      <td>...</td>\n",
       "      <td>...</td>\n",
       "      <td>...</td>\n",
       "      <td>...</td>\n",
       "    </tr>\n",
       "    <tr>\n",
       "      <th>26962</th>\n",
       "      <td>2</td>\n",
       "      <td>17146</td>\n",
       "      <td>7</td>\n",
       "      <td>37</td>\n",
       "      <td>0.189189</td>\n",
       "    </tr>\n",
       "    <tr>\n",
       "      <th>26963</th>\n",
       "      <td>1</td>\n",
       "      <td>30872</td>\n",
       "      <td>8</td>\n",
       "      <td>27</td>\n",
       "      <td>0.296296</td>\n",
       "    </tr>\n",
       "    <tr>\n",
       "      <th>26964</th>\n",
       "      <td>2</td>\n",
       "      <td>25383</td>\n",
       "      <td>7</td>\n",
       "      <td>40</td>\n",
       "      <td>0.175000</td>\n",
       "    </tr>\n",
       "    <tr>\n",
       "      <th>26965</th>\n",
       "      <td>1</td>\n",
       "      <td>57001</td>\n",
       "      <td>4</td>\n",
       "      <td>33</td>\n",
       "      <td>0.121212</td>\n",
       "    </tr>\n",
       "    <tr>\n",
       "      <th>26966</th>\n",
       "      <td>2</td>\n",
       "      <td>139020</td>\n",
       "      <td>11</td>\n",
       "      <td>38</td>\n",
       "      <td>0.289474</td>\n",
       "    </tr>\n",
       "  </tbody>\n",
       "</table>\n",
       "<p>26967 rows × 5 columns</p>\n",
       "</div>"
      ],
      "text/plain": [
       "       exp_group  user_id  likes  views       ctr\n",
       "0              1   109963      2     20  0.100000\n",
       "1              1   138232     21    109  0.192661\n",
       "2              1    49286     10     64  0.156250\n",
       "3              1   145957     24     62  0.387097\n",
       "4              2   131473     22     80  0.275000\n",
       "...          ...      ...    ...    ...       ...\n",
       "26962          2    17146      7     37  0.189189\n",
       "26963          1    30872      8     27  0.296296\n",
       "26964          2    25383      7     40  0.175000\n",
       "26965          1    57001      4     33  0.121212\n",
       "26966          2   139020     11     38  0.289474\n",
       "\n",
       "[26967 rows x 5 columns]"
      ]
     },
     "execution_count": 9,
     "metadata": {},
     "output_type": "execute_result"
    }
   ],
   "source": [
    "q2 = '''\n",
    "SELECT exp_group, \n",
    "    user_id,\n",
    "    sum(action = 'like') as likes,\n",
    "    sum(action = 'view') as views,\n",
    "    likes/views as ctr\n",
    "FROM {db}.feed_actions \n",
    "WHERE toDate(time) between '2022-09-21' and '2022-09-27'\n",
    "    and exp_group in (1,2)\n",
    "GROUP BY exp_group, user_id\n",
    "'''\n",
    "\n",
    "df2 = ph.read_clickhouse(q2, connection=connection)\n",
    "df2"
   ]
  },
  {
   "cell_type": "markdown",
   "id": "2332448b-b65a-433e-a6a2-a384e581a793",
   "metadata": {},
   "source": [
    "Посчитаем общий `CTR` в контрольной группе. А также  поюзерную метрику `linearized_likes` в обеих группах."
   ]
  },
  {
   "cell_type": "code",
   "execution_count": 10,
   "id": "4a126df5-6d63-417e-b74f-f3a6a7bbd1aa",
   "metadata": {},
   "outputs": [
    {
     "data": {
      "text/plain": [
       "0.21688461804926726"
      ]
     },
     "execution_count": 10,
     "metadata": {},
     "output_type": "execute_result"
    }
   ],
   "source": [
    "control_ctr2 = df2.query('exp_group == 1').likes.sum()/df2.query('exp_group == 1').views.sum()\n",
    "control_ctr2"
   ]
  },
  {
   "cell_type": "code",
   "execution_count": 11,
   "id": "9dbcc1ad-ce4f-4d09-afdd-7c4d038f1eb3",
   "metadata": {},
   "outputs": [],
   "source": [
    "df2['linearized_likes'] = df2.likes - control_ctr2 * df2.views"
   ]
  },
  {
   "cell_type": "markdown",
   "id": "34832679-0b53-47c7-b1ab-e4a1f33caafe",
   "metadata": {},
   "source": [
    "T-test по `CTR`:"
   ]
  },
  {
   "cell_type": "code",
   "execution_count": 12,
   "id": "6a6dae52-9bb0-4aad-95d3-e8413e5c5ddf",
   "metadata": {},
   "outputs": [
    {
     "data": {
      "image/png": "[encoded data removed]",
      "text/plain": [
       "<Figure size 842.4x595.44 with 1 Axes>"
      ]
     },
     "metadata": {},
     "output_type": "display_data"
    }
   ],
   "source": [
    "sns.set(rc={'figure.figsize':(11.7,8.27)})\n",
    "\n",
    "sns.histplot(data = df2, \n",
    "              x='ctr', \n",
    "              hue='exp_group', \n",
    "              palette = ['r', 'b'],\n",
    "              alpha=0.5,\n",
    "              kde=False)\n",
    "plt.show()"
   ]
  },
  {
   "cell_type": "code",
   "execution_count": 13,
   "id": "85d9ecab-72f7-4daa-9efe-cf2bba5dcc1d",
   "metadata": {},
   "outputs": [
    {
     "data": {
      "text/plain": [
       "Ttest_indResult(statistic=4.826579789306613, pvalue=1.3965740773012885e-06)"
      ]
     },
     "execution_count": 13,
     "metadata": {},
     "output_type": "execute_result"
    }
   ],
   "source": [
    "stats.ttest_ind(df2.query('exp_group == 1').ctr,\n",
    "                df2.query('exp_group == 2').ctr,\n",
    "                equal_var=False)"
   ]
  },
  {
   "cell_type": "markdown",
   "id": "90a8f322-19cc-4cc6-b938-f97c8e80b7f5",
   "metadata": {},
   "source": [
    "---\n",
    "\n",
    "T-test по `linearized_likes`:\n"
   ]
  },
  {
   "cell_type": "code",
   "execution_count": 14,
   "id": "c67c177b-ad2f-45d7-b2b3-8ed9e49e7f5e",
   "metadata": {},
   "outputs": [
    {
     "data": {
      "image/png": "[encoded data removed]",
      "text/plain": [
       "<Figure size 842.4x595.44 with 1 Axes>"
      ]
     },
     "metadata": {},
     "output_type": "display_data"
    }
   ],
   "source": [
    "sns.set(rc={'figure.figsize':(11.7,8.27)})\n",
    "\n",
    "sns.histplot(data = df2, \n",
    "              x='linearized_likes', \n",
    "              hue='exp_group', \n",
    "              palette = ['r', 'b'],\n",
    "              alpha=0.5,\n",
    "              kde=False)\n",
    "plt.show()"
   ]
  },
  {
   "cell_type": "code",
   "execution_count": 15,
   "id": "d62563fe-c239-46c0-bf11-8a1158e4a57e",
   "metadata": {},
   "outputs": [
    {
     "data": {
      "text/plain": [
       "Ttest_indResult(statistic=5.757466093254311, pvalue=8.631200390318467e-09)"
      ]
     },
     "execution_count": 15,
     "metadata": {},
     "output_type": "execute_result"
    }
   ],
   "source": [
    "stats.ttest_ind(df2.query('exp_group == 1').linearized_likes,\n",
    "                df2.query('exp_group == 2').linearized_likes,\n",
    "                equal_var=False)"
   ]
  },
  {
   "cell_type": "markdown",
   "id": "4c6fb24e-ad2c-4a9d-983d-b0fc00fada18",
   "metadata": {},
   "source": [
    "На обычном `CTR` T-test не прокрасился, разница между тестовой и контрольной группами не выявлена. \n",
    "На линеаризованной метрике T-test уверенно прокрасился, что говорит нам о статистически значимых отличиях в группах. Линеаризация сделала метрику более чувствительной и мы смогли выявить различия."
   ]
  },
  {
   "cell_type": "code",
   "execution_count": null,
   "id": "440cf871-9ffa-4fcc-85c3-45ad249db0a2",
   "metadata": {},
   "outputs": [],
   "source": []
  }
 ],
 "metadata": {
  "kernelspec": {
   "display_name": "Python 3 (ipykernel)",
   "language": "python",
   "name": "python3"
  },
  "language_info": {
   "codemirror_mode": {
    "name": "ipython",
    "version": 3
   },
   "file_extension": ".py",
   "mimetype": "text/x-python",
   "name": "python",
   "nbconvert_exporter": "python",
   "pygments_lexer": "ipython3",
   "version": "3.8.10"
  }
 },
 "nbformat": 4,
 "nbformat_minor": 5
}
