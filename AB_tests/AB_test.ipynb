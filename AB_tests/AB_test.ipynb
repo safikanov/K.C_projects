{
 "cells": [
  {
   "cell_type": "code",
   "execution_count": 1,
   "id": "d928189b-23a0-4629-96b8-6ef7c0ed7835",
   "metadata": {},
   "outputs": [],
   "source": [
    "import pandas as pd\n",
    "import pandahouse as ph\n",
    "import seaborn as sns\n",
    "import matplotlib.pyplot as plt\n",
    "import numpy as np\n",
    "from scipy import stats\n",
    "from tqdm import tqdm\n",
    "import warnings\n",
    "warnings.filterwarnings('ignore')\n",
    "\n",
    "connection = {'host': 'hidden_host',\n",
    "                      'database':'hidden_database',\n",
    "                      'user':'hidden_user', \n",
    "                      'password':'hidden_password'\n",
    "                     }\n"
   ]
  },
  {
   "cell_type": "code",
   "execution_count": 2,
   "id": "e8e57468-de12-4732-b70c-e5bddf62195b",
   "metadata": {},
   "outputs": [
    {
     "data": {
      "text/html": [
       "<div>\n",
       "<style scoped>\n",
       "    .dataframe tbody tr th:only-of-type {\n",
       "        vertical-align: middle;\n",
       "    }\n",
       "\n",
       "    .dataframe tbody tr th {\n",
       "        vertical-align: top;\n",
       "    }\n",
       "\n",
       "    .dataframe thead th {\n",
       "        text-align: right;\n",
       "    }\n",
       "</style>\n",
       "<table border=\"1\" class=\"dataframe\">\n",
       "  <thead>\n",
       "    <tr style=\"text-align: right;\">\n",
       "      <th></th>\n",
       "      <th>exp_group</th>\n",
       "      <th>user_id</th>\n",
       "      <th>likes</th>\n",
       "      <th>views</th>\n",
       "      <th>ctr</th>\n",
       "    </tr>\n",
       "  </thead>\n",
       "  <tbody>\n",
       "    <tr>\n",
       "      <th>0</th>\n",
       "      <td>1</td>\n",
       "      <td>109963</td>\n",
       "      <td>2</td>\n",
       "      <td>20</td>\n",
       "      <td>0.100000</td>\n",
       "    </tr>\n",
       "    <tr>\n",
       "      <th>1</th>\n",
       "      <td>1</td>\n",
       "      <td>138232</td>\n",
       "      <td>21</td>\n",
       "      <td>109</td>\n",
       "      <td>0.192661</td>\n",
       "    </tr>\n",
       "    <tr>\n",
       "      <th>2</th>\n",
       "      <td>1</td>\n",
       "      <td>49286</td>\n",
       "      <td>10</td>\n",
       "      <td>64</td>\n",
       "      <td>0.156250</td>\n",
       "    </tr>\n",
       "    <tr>\n",
       "      <th>3</th>\n",
       "      <td>1</td>\n",
       "      <td>145957</td>\n",
       "      <td>24</td>\n",
       "      <td>62</td>\n",
       "      <td>0.387097</td>\n",
       "    </tr>\n",
       "    <tr>\n",
       "      <th>4</th>\n",
       "      <td>2</td>\n",
       "      <td>131473</td>\n",
       "      <td>22</td>\n",
       "      <td>80</td>\n",
       "      <td>0.275000</td>\n",
       "    </tr>\n",
       "    <tr>\n",
       "      <th>...</th>\n",
       "      <td>...</td>\n",
       "      <td>...</td>\n",
       "      <td>...</td>\n",
       "      <td>...</td>\n",
       "      <td>...</td>\n",
       "    </tr>\n",
       "    <tr>\n",
       "      <th>26962</th>\n",
       "      <td>1</td>\n",
       "      <td>132567</td>\n",
       "      <td>11</td>\n",
       "      <td>56</td>\n",
       "      <td>0.196429</td>\n",
       "    </tr>\n",
       "    <tr>\n",
       "      <th>26963</th>\n",
       "      <td>1</td>\n",
       "      <td>30872</td>\n",
       "      <td>8</td>\n",
       "      <td>27</td>\n",
       "      <td>0.296296</td>\n",
       "    </tr>\n",
       "    <tr>\n",
       "      <th>26964</th>\n",
       "      <td>2</td>\n",
       "      <td>25383</td>\n",
       "      <td>7</td>\n",
       "      <td>40</td>\n",
       "      <td>0.175000</td>\n",
       "    </tr>\n",
       "    <tr>\n",
       "      <th>26965</th>\n",
       "      <td>1</td>\n",
       "      <td>57001</td>\n",
       "      <td>4</td>\n",
       "      <td>33</td>\n",
       "      <td>0.121212</td>\n",
       "    </tr>\n",
       "    <tr>\n",
       "      <th>26966</th>\n",
       "      <td>2</td>\n",
       "      <td>139020</td>\n",
       "      <td>11</td>\n",
       "      <td>38</td>\n",
       "      <td>0.289474</td>\n",
       "    </tr>\n",
       "  </tbody>\n",
       "</table>\n",
       "<p>26967 rows × 5 columns</p>\n",
       "</div>"
      ],
      "text/plain": [
       "       exp_group  user_id  likes  views       ctr\n",
       "0              1   109963      2     20  0.100000\n",
       "1              1   138232     21    109  0.192661\n",
       "2              1    49286     10     64  0.156250\n",
       "3              1   145957     24     62  0.387097\n",
       "4              2   131473     22     80  0.275000\n",
       "...          ...      ...    ...    ...       ...\n",
       "26962          1   132567     11     56  0.196429\n",
       "26963          1    30872      8     27  0.296296\n",
       "26964          2    25383      7     40  0.175000\n",
       "26965          1    57001      4     33  0.121212\n",
       "26966          2   139020     11     38  0.289474\n",
       "\n",
       "[26967 rows x 5 columns]"
      ]
     },
     "execution_count": 2,
     "metadata": {},
     "output_type": "execute_result"
    }
   ],
   "source": [
    "q = '''\n",
    "SELECT exp_group, \n",
    "    user_id,\n",
    "    sum(action = 'like') as likes,\n",
    "    sum(action = 'view') as views,\n",
    "    likes/views as ctr\n",
    "FROM {db}.feed_actions \n",
    "WHERE toDate(time) between '2022-09-21' and '2022-09-27'\n",
    "    and exp_group in (1,2)\n",
    "GROUP BY exp_group, user_id\n",
    "'''\n",
    "\n",
    "df = ph.read_clickhouse(q, connection=connection)\n",
    "df"
   ]
  },
  {
   "cell_type": "markdown",
   "id": "1f10ab53-d5f2-497a-a6e8-571856f099df",
   "metadata": {},
   "source": [
    "Посмотрим распределение пользователей по группам:"
   ]
  },
  {
   "cell_type": "code",
   "execution_count": 3,
   "id": "c6a14e21-9a4a-4052-80c8-3b7009bda08f",
   "metadata": {},
   "outputs": [
    {
     "data": {
      "text/html": [
       "<div>\n",
       "<style scoped>\n",
       "    .dataframe tbody tr th:only-of-type {\n",
       "        vertical-align: middle;\n",
       "    }\n",
       "\n",
       "    .dataframe tbody tr th {\n",
       "        vertical-align: top;\n",
       "    }\n",
       "\n",
       "    .dataframe thead th {\n",
       "        text-align: right;\n",
       "    }\n",
       "</style>\n",
       "<table border=\"1\" class=\"dataframe\">\n",
       "  <thead>\n",
       "    <tr style=\"text-align: right;\">\n",
       "      <th></th>\n",
       "      <th>user_id</th>\n",
       "      <th>likes</th>\n",
       "      <th>views</th>\n",
       "      <th>ctr</th>\n",
       "    </tr>\n",
       "    <tr>\n",
       "      <th>exp_group</th>\n",
       "      <th></th>\n",
       "      <th></th>\n",
       "      <th></th>\n",
       "      <th></th>\n",
       "    </tr>\n",
       "  </thead>\n",
       "  <tbody>\n",
       "    <tr>\n",
       "      <th>1</th>\n",
       "      <td>13553</td>\n",
       "      <td>13553</td>\n",
       "      <td>13553</td>\n",
       "      <td>13553</td>\n",
       "    </tr>\n",
       "    <tr>\n",
       "      <th>2</th>\n",
       "      <td>13414</td>\n",
       "      <td>13414</td>\n",
       "      <td>13414</td>\n",
       "      <td>13414</td>\n",
       "    </tr>\n",
       "  </tbody>\n",
       "</table>\n",
       "</div>"
      ],
      "text/plain": [
       "           user_id  likes  views    ctr\n",
       "exp_group                              \n",
       "1            13553  13553  13553  13553\n",
       "2            13414  13414  13414  13414"
      ]
     },
     "execution_count": 3,
     "metadata": {},
     "output_type": "execute_result"
    }
   ],
   "source": [
    "df.groupby('exp_group').count()"
   ]
  },
  {
   "cell_type": "markdown",
   "id": "29bf608b-c1a5-44e0-b27a-f454b7b4d774",
   "metadata": {},
   "source": [
    "В каждой из групп количество пользователей примерно **равное**. Посмотрим наглядно на распределение целевой метрики каждой группы."
   ]
  },
  {
   "cell_type": "code",
   "execution_count": 4,
   "id": "b4a751fd-c045-47d3-8ece-a30471ee1e0b",
   "metadata": {},
   "outputs": [
    {
     "data": {
      "image/png": "[encoded data removed]",
      "text/plain": [
       "<Figure size 842.4x595.44 with 1 Axes>"
      ]
     },
     "metadata": {},
     "output_type": "display_data"
    }
   ],
   "source": [
    "sns.set(rc={'figure.figsize':(11.7,8.27)})\n",
    "\n",
    "sns.histplot(data = df, \n",
    "              x='ctr', \n",
    "              hue='exp_group', \n",
    "              palette = ['r', 'b'],\n",
    "              alpha=0.5,\n",
    "              kde=False)\n",
    "plt.show()"
   ]
  },
  {
   "cell_type": "markdown",
   "id": "1a138a44-4399-4e46-8552-858449382db5",
   "metadata": {},
   "source": [
    "Видно, что распределение в двух группах сильно различается. В экспериментальной группе распределение целевой метрики поменяло форму и стало двугорбым.\n",
    "\n",
    "---\n",
    "\n",
    "Проведем t test и тест Манна Уитни. В первом случае нулевой гипотезой является равенство средних. Во втором нулевая гипотеза о равенство вероятности преобладания одного элемента из группы 1 над элементом из группы 2."
   ]
  },
  {
   "cell_type": "code",
   "execution_count": 5,
   "id": "2be647a0-522d-43ce-afb8-bb588b9ee63d",
   "metadata": {},
   "outputs": [
    {
     "data": {
      "text/plain": [
       "Ttest_indResult(statistic=4.826579789306613, pvalue=1.3965740773012885e-06)"
      ]
     },
     "execution_count": 5,
     "metadata": {},
     "output_type": "execute_result"
    }
   ],
   "source": [
    "stats.ttest_ind(df.query('exp_group == 1').ctr,\n",
    "                df.query('exp_group == 2').ctr,\n",
    "                equal_var=False)"
   ]
  },
  {
   "cell_type": "code",
   "execution_count": 6,
   "id": "a7807cb6-8cba-45c7-ae12-67ab6512719c",
   "metadata": {},
   "outputs": [
    {
     "data": {
      "text/plain": [
       "MannwhitneyuResult(statistic=94389201.0, pvalue=4.788319445221499e-08)"
      ]
     },
     "execution_count": 6,
     "metadata": {},
     "output_type": "execute_result"
    }
   ],
   "source": [
    "stats.mannwhitneyu(df.query('exp_group == 1').ctr, \n",
    "                   df.query('exp_group == 2').ctr,\n",
    "                   alternative = 'two-sided')"
   ]
  },
  {
   "cell_type": "markdown",
   "id": "bb9e3119-2884-4e2d-b230-53a3de4a08e5",
   "metadata": {},
   "source": [
    "T-test показывает отсутсвие отличий между группами. Значение pvalue не позволяет отклонить нулевую гипотезу о равенстве средних.\n",
    "А тест Манна-Уитни в свою очередь видит значимое различие.\n",
    "\n",
    "---\n",
    "\n",
    "Проверим отличия на сглаженном CTR\n"
   ]
  },
  {
   "cell_type": "code",
   "execution_count": 7,
   "id": "f028ca62-a94d-4152-a229-dc68090fbb0f",
   "metadata": {},
   "outputs": [],
   "source": [
    "def get_smothed_ctr(user_likes, user_views, global_ctr, alpha):\n",
    "    smothed_ctr = (user_likes + alpha * global_ctr) / (user_views + alpha)\n",
    "    return smothed_ctr"
   ]
  },
  {
   "cell_type": "code",
   "execution_count": 8,
   "id": "a91d4f68-2f7b-4ef4-8310-8321a42ec7b2",
   "metadata": {},
   "outputs": [],
   "source": [
    "global_ctr_1 = df.query('exp_group == 1').likes.sum()/df.query('exp_group == 1').views.sum()\n",
    "global_ctr_2 = df.query('exp_group == 2').likes.sum()/df.query('exp_group == 2').views.sum()"
   ]
  },
  {
   "cell_type": "code",
   "execution_count": 9,
   "id": "13a469ae-b9e0-4b7f-9040-1ea3859bbe37",
   "metadata": {},
   "outputs": [],
   "source": [
    "group1 = df.query('exp_group == 1').copy()\n",
    "group2 = df.query('exp_group == 2').copy()"
   ]
  },
  {
   "cell_type": "code",
   "execution_count": 10,
   "id": "0a8950b4-da82-4b7b-8054-596aa9ceebf2",
   "metadata": {},
   "outputs": [],
   "source": [
    "group1['smothed_ctr'] = df.apply(\n",
    "    lambda x: get_smothed_ctr(x['likes'], x['views'], global_ctr_1, 5), axis=1)\n",
    "\n",
    "group2['smothed_ctr'] = df.apply(\n",
    "    lambda x: get_smothed_ctr(x['likes'], x['views'], global_ctr_2, 5), axis=1)"
   ]
  },
  {
   "cell_type": "markdown",
   "id": "e2457450-a26c-442b-ad04-18d02ca1f7fd",
   "metadata": {},
   "source": [
    "Построим графики сглаженного CTR по группам и сделаем T-test."
   ]
  },
  {
   "cell_type": "code",
   "execution_count": 11,
   "id": "bb9284f1-9ac4-4a4f-9028-ec86de858aba",
   "metadata": {},
   "outputs": [
    {
     "data": {
      "image/png": "[encoded data removed]",
      "text/plain": [
       "<Figure size 842.4x595.44 with 1 Axes>"
      ]
     },
     "metadata": {},
     "output_type": "display_data"
    }
   ],
   "source": [
    "sns.distplot(group1.smothed_ctr, \n",
    "             kde = False,\n",
    "            bins = 50)\n",
    "sns.distplot(group2.smothed_ctr, \n",
    "             kde = False,\n",
    "            bins = 50)\n",
    "plt.show()"
   ]
  },
  {
   "cell_type": "code",
   "execution_count": 12,
   "id": "aa347b1e-9690-415d-91a3-a552640544ee",
   "metadata": {},
   "outputs": [
    {
     "data": {
      "text/plain": [
       "Ttest_indResult(statistic=5.866997001157933, pvalue=4.489392502575877e-09)"
      ]
     },
     "execution_count": 12,
     "metadata": {},
     "output_type": "execute_result"
    }
   ],
   "source": [
    "stats.ttest_ind(group1.smothed_ctr,\n",
    "                group2.smothed_ctr,\n",
    "                equal_var=False)"
   ]
  },
  {
   "cell_type": "markdown",
   "id": "01b2e58e-ac0f-4903-8f49-e89b2c08fa57",
   "metadata": {},
   "source": [
    "Тест видит отличия между группами по сглаженному CTR.  Значение pvalue позволяет отклонить нулевую гипотезу, но у нас нет теоретических гарантий о сонаправленности с общим количеством лайков.\n",
    "\n",
    "\n",
    "---\n",
    "\n",
    "\n",
    "Пуассоновский бутстреп"
   ]
  },
  {
   "cell_type": "code",
   "execution_count": 13,
   "id": "3e4a666b-a27b-4627-8fd9-3b7d496c61e3",
   "metadata": {},
   "outputs": [],
   "source": [
    "def bootstrap(likes1, views1, likes2, views2, n_bootstrap=10000):\n",
    "\n",
    "    poisson_bootstraps1 = stats.poisson(1).rvs(\n",
    "        (n_bootstrap, len(likes1))).astype(np.int64)\n",
    "\n",
    "    poisson_bootstraps2 = stats.poisson(1).rvs(\n",
    "            (n_bootstrap, len(likes2))).astype(np.int64)\n",
    "    \n",
    "    globalCTR1 = (poisson_bootstraps1*likes1).sum(axis=1)/(poisson_bootstraps1*views1).sum(axis=1)\n",
    "    \n",
    "    globalCTR2 = (poisson_bootstraps2*likes2).sum(axis=1)/(poisson_bootstraps2*views2).sum(axis=1)\n",
    "\n",
    "    return globalCTR1, globalCTR2"
   ]
  },
  {
   "cell_type": "code",
   "execution_count": 14,
   "id": "4b0f6aee-2150-4163-aea3-6caffc699824",
   "metadata": {},
   "outputs": [
    {
     "name": "stderr",
     "output_type": "stream",
     "text": [
      "100%|██████████| 2/2 [00:00<00:00, 14364.05it/s]\n"
     ]
    }
   ],
   "source": [
    "likes1 = df.query('exp_group == 1').likes.to_numpy()\n",
    "views1 = df.query('exp_group == 1').views.to_numpy()\n",
    "likes2 = df.query('exp_group == 2').likes.to_numpy()\n",
    "views2 = df.query('exp_group == 2').views.to_numpy()\n",
    "\n",
    "ctr1, ctr2 = tqdm(bootstrap(likes1, views1, likes2, views2))\n"
   ]
  },
  {
   "cell_type": "markdown",
   "id": "b1c3c98c-3a78-45da-8c11-31ec7fd77d71",
   "metadata": {},
   "source": [
    "Построим получившиеся распределения."
   ]
  },
  {
   "cell_type": "code",
   "execution_count": 15,
   "id": "e6e79d02-6ed0-4f0b-9e5a-3c47017c0811",
   "metadata": {},
   "outputs": [
    {
     "data": {
      "image/png": "[encoded data removed]",
      "text/plain": [
       "<Figure size 842.4x595.44 with 1 Axes>"
      ]
     },
     "metadata": {},
     "output_type": "display_data"
    }
   ],
   "source": [
    "sns.histplot(ctr1, bins = 50)\n",
    "sns.histplot(ctr2, bins = 50)\n",
    "plt.show()"
   ]
  },
  {
   "cell_type": "markdown",
   "id": "c9c4953b-e966-4bd9-9619-67da2d2761ac",
   "metadata": {},
   "source": [
    "По результатам бутстрепа значение искомой метрики в экспериментальной группе значимо хуже, чем в контрольной. Посмотрим наглядно на распределение разницы глобальных CTR."
   ]
  },
  {
   "cell_type": "code",
   "execution_count": 16,
   "id": "675c0a7b-da5c-48ae-b244-985479fa0f8b",
   "metadata": {},
   "outputs": [
    {
     "data": {
      "text/plain": [
       "<AxesSubplot:ylabel='Count'>"
      ]
     },
     "execution_count": 16,
     "metadata": {},
     "output_type": "execute_result"
    },
    {
     "data": {
      "image/png": "[encoded data removed]",
      "text/plain": [
       "<Figure size 842.4x595.44 with 1 Axes>"
      ]
     },
     "metadata": {},
     "output_type": "display_data"
    }
   ],
   "source": [
    "sns.histplot(ctr2 - ctr1)"
   ]
  },
  {
   "cell_type": "markdown",
   "id": "cf040134-f6b5-4980-80f7-8757594726d7",
   "metadata": {},
   "source": [
    "Так как распределение имеет орицательные значения, можно утверждать что в контрольной группе общегрупповой CTR стал ниже чем в контрольной.\n",
    "\n",
    "---\n",
    "\n",
    "Проведем T-тест и тест Манна-Уитни поверх бакетного преобразования. И построим график распределения бакетного CTR."
   ]
  },
  {
   "cell_type": "code",
   "execution_count": 17,
   "id": "c34974ec-8832-4299-8c8a-3ae370b36810",
   "metadata": {},
   "outputs": [],
   "source": [
    "q = \"\"\"\n",
    "\n",
    "SELECT exp_group, bucket,\n",
    "    sum(likes)/sum(views) as bucket_ctr\n",
    "FROM (SELECT exp_group, \n",
    "        xxHash64(user_id)%50 as bucket,\n",
    "        user_id,\n",
    "        sum(action = 'like') as likes,\n",
    "        sum(action = 'view') as views,\n",
    "        likes/views as ctr\n",
    "    FROM {db}.feed_actions \n",
    "    WHERE toDate(time) between '2022-09-21' and '2022-09-27'\n",
    "        and exp_group in (1,2)\n",
    "    GROUP BY exp_group, bucket, user_id)\n",
    "GROUP BY exp_group, bucket\n",
    "\"\"\"\n",
    "\n",
    "df_bucket = ph.read_clickhouse(q, connection=connection)\n"
   ]
  },
  {
   "cell_type": "code",
   "execution_count": 18,
   "id": "be727d7b-ab15-4418-842c-b92408755bc0",
   "metadata": {},
   "outputs": [
    {
     "data": {
      "text/plain": [
       "Ttest_indResult(statistic=5.350467014452549, pvalue=5.836286882355174e-07)"
      ]
     },
     "execution_count": 18,
     "metadata": {},
     "output_type": "execute_result"
    }
   ],
   "source": [
    "stats.ttest_ind(df_bucket.query('exp_group == 1').bucket_ctr,\n",
    "                df_bucket.query('exp_group == 2').bucket_ctr,\n",
    "                equal_var = False)"
   ]
  },
  {
   "cell_type": "code",
   "execution_count": 19,
   "id": "6ad4ae33-a5c3-4d14-80c2-f603c6d6a5be",
   "metadata": {},
   "outputs": [
    {
     "data": {
      "text/plain": [
       "MannwhitneyuResult(statistic=1991.0, pvalue=3.3101566503929746e-07)"
      ]
     },
     "execution_count": 19,
     "metadata": {},
     "output_type": "execute_result"
    }
   ],
   "source": [
    "\n",
    "stats.mannwhitneyu(df_bucket.query('exp_group == 1').bucket_ctr,\n",
    "                   df_bucket.query('exp_group == 2').bucket_ctr, \n",
    "                   alternative = 'two-sided')"
   ]
  },
  {
   "cell_type": "code",
   "execution_count": 20,
   "id": "d78f930b-82b5-4311-b1b5-c4c6f055e660",
   "metadata": {},
   "outputs": [
    {
     "data": {
      "image/png": "[encoded data removed]",
      "text/plain": [
       "<Figure size 842.4x595.44 with 1 Axes>"
      ]
     },
     "metadata": {},
     "output_type": "display_data"
    }
   ],
   "source": [
    "sns.histplot(data = df_bucket, \n",
    "              x='bucket_ctr', \n",
    "              hue='exp_group', \n",
    "              palette = ['r', 'b'],\n",
    "              alpha=0.5,\n",
    "              kde=False,\n",
    "             bins = 20)\n",
    "plt.show()"
   ]
  },
  {
   "cell_type": "markdown",
   "id": "0093ffa6-e933-4795-821e-55e13e309809",
   "metadata": {},
   "source": [
    "Оба теста поверх бакетного преобразование видят значимые различия. На визуализации бакетного распределения эти отличия также заметны.\n",
    "\n",
    "---\n",
    "\n",
    "### Вывод:\n",
    "\n",
    "Из-за того, что распределение целевой метрики в экспериментальной группе стало двугорбым, T-test **не видел** отличия в двух группах. И только путем различных преобразований `CTR`, удалось выявить значимые различия в двух группах. \n",
    "Раскатывать новый алгоритм на всех пользователей **не стоит**. Общегрупповой `CTR` в экспериментальной группе стал **хуже**, чем в контрольной.\n",
    "В экспериментальной группе появились пользователи, у которых `CTR` стал меньше, но появились и те, у кого `CTR` стал существенно больше. Стоит обратить на это внимание и возможно выяснить обстоятельства для каких пользователей новый алгоритм рекомендаций сработал, а для каких нет. Это позволит доработать алгоритм и уже можно будет провести тест повторно, на обновленном алгоритме."
   ]
  },
  {
   "cell_type": "code",
   "execution_count": null,
   "id": "ac6eb433-3a0d-4058-9b03-06bea389f1ec",
   "metadata": {},
   "outputs": [],
   "source": []
  },
  {
   "cell_type": "code",
   "execution_count": null,
   "id": "8f7c745d-5d6c-4700-86f0-3e218b60c5d3",
   "metadata": {},
   "outputs": [],
   "source": []
  }
 ],
 "metadata": {
  "kernelspec": {
   "display_name": "Python 3 (ipykernel)",
   "language": "python",
   "name": "python3"
  },
  "language_info": {
   "codemirror_mode": {
    "name": "ipython",
    "version": 3
   },
   "file_extension": ".py",
   "mimetype": "text/x-python",
   "name": "python",
   "nbconvert_exporter": "python",
   "pygments_lexer": "ipython3",
   "version": "3.8.10"
  }
 },
 "nbformat": 4,
 "nbformat_minor": 5
}
